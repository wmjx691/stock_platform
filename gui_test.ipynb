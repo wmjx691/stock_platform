{
 "cells": [
  {
   "cell_type": "code",
   "execution_count": null,
   "id": "e94306da-e17c-4bfc-8202-e4fa25177e7c",
   "metadata": {},
   "outputs": [],
   "source": [
    "# 熟知 grid_columnconfigure 的意思"
   ]
  },
  {
   "cell_type": "code",
   "execution_count": 3,
   "id": "d6225d31-8e4e-4403-bf13-f0f0106c7aa5",
   "metadata": {},
   "outputs": [],
   "source": [
    "import customtkinter\n",
    "\n",
    "def button_callback():\n",
    "    print(\"button pressed\")\n",
    "\n",
    "app = customtkinter.CTk()\n",
    "app.title(\"my app\")\n",
    "app.geometry(\"400x150\")\n",
    "\n",
    "# 0號欄位所擁有的佔比，此表示有1倍的佔比\n",
    "# (因此程式才能知道之後的每個部件，其大小為何)\n",
    "app.grid_columnconfigure(0, weight=1)\n",
    "\n",
    "\n",
    "button = customtkinter.CTkButton(app, text=\"my button\", command=button_callback)\n",
    "button.grid(row=0, column=0, padx=20, pady=20)\n",
    "\n",
    "app.mainloop()"
   ]
  },
  {
   "cell_type": "code",
   "execution_count": null,
   "id": "99b5f6dc-6522-4fe5-81d2-e2c4599bab49",
   "metadata": {},
   "outputs": [],
   "source": []
  },
  {
   "cell_type": "code",
   "execution_count": 71,
   "id": "f7e41083-abaa-4f46-b71c-dab20901e905",
   "metadata": {},
   "outputs": [],
   "source": [
    "import customtkinter\n",
    "\n",
    "def button_callback():\n",
    "    print(\"button pressed\")\n",
    "\n",
    "app = customtkinter.CTk()\n",
    "app.title(\"測試\")\n",
    "app.geometry(\"400x150\")\n",
    "\n",
    "# 0號欄位所擁有的佔比，此表示有1倍的佔比\n",
    "# (但這裡有2個checkbox，所以程式就只會知道第1個checkbox的佔比，第二個checkbox就知道他們視窗佔比是多少)\n",
    "# app.grid_columnconfigure(0, weight=1)\n",
    "\n",
    "# 0號1號欄位所擁有的佔比，此表示他們有1倍的佔比\n",
    "# (所以2個checkbox的佔比會和第1個checkbox一樣大)\n",
    "app.grid_columnconfigure((0, 1), weight=1)\n",
    "\n",
    "checkbox_1 = customtkinter.CTkCheckBox(app, text=\"checkbox 1\")\n",
    "checkbox_1.grid(row=1, column=0, padx=20, pady=(0, 50), sticky=\"w\")\n",
    "checkbox_2 = customtkinter.CTkCheckBox(app, text=\"checkbox 2\")\n",
    "checkbox_2.grid(row=1, column=1, padx=20, pady=(0, 50), sticky=\"w\")\n",
    "\n",
    "button = customtkinter.CTkButton(app, text=\"按鈕\", command=button_callback)\n",
    "button.grid(row=0, column=0, padx=20, pady=20, sticky=\"ew\", columnspan=2)\n",
    "\n",
    "app.mainloop()"
   ]
  },
  {
   "cell_type": "code",
   "execution_count": null,
   "id": "da985576-6ebe-4b1c-be0c-4d4ab5dd69ba",
   "metadata": {},
   "outputs": [],
   "source": [
    "# 加入frame的概念"
   ]
  },
  {
   "cell_type": "code",
   "execution_count": 73,
   "id": "e362ed61-93fb-431b-90fc-76290479b85d",
   "metadata": {},
   "outputs": [],
   "source": [
    "class App(customtkinter.CTk):\n",
    "    def __init__(self):\n",
    "        super().__init__()\n",
    "\n",
    "        self.title(\"my app\")\n",
    "        self.geometry(\"400x180\")\n",
    "        self.grid_columnconfigure(0, weight=1)\n",
    "        self.grid_rowconfigure(0, weight=1)\n",
    "\n",
    "        self.checkbox_frame = customtkinter.CTkFrame(self)\n",
    "        self.checkbox_frame.grid(row=0, column=0, padx=10, pady=(10, 0), sticky=\"nsw\")\n",
    "        self.checkbox_1 = customtkinter.CTkCheckBox(self.checkbox_frame, text=\"checkbox 1\")\n",
    "        self.checkbox_1.grid(row=0, column=0, padx=10, pady=(10, 0), sticky=\"w\")\n",
    "        self.checkbox_2 = customtkinter.CTkCheckBox(self.checkbox_frame, text=\"checkbox 2\")\n",
    "        self.checkbox_2.grid(row=1, column=0, padx=10, pady=(10, 0), sticky=\"w\")\n",
    "\n",
    "        self.button = customtkinter.CTkButton(self, text=\"my button\", command=self.button_callback)\n",
    "        self.button.grid(row=3, column=0, padx=10, pady=10, sticky=\"ew\")\n",
    "\n",
    "    def button_callback(self):\n",
    "        print(\"button pressed\")\n",
    "        \n",
    "app = App()\n",
    "app.mainloop()"
   ]
  },
  {
   "cell_type": "code",
   "execution_count": null,
   "id": "294b85b0-dc43-4a29-ad25-dc3e4f0f9d00",
   "metadata": {},
   "outputs": [],
   "source": [
    "# 並將frame分類成另一個class"
   ]
  },
  {
   "cell_type": "code",
   "execution_count": 4,
   "id": "99c2f3be-1301-4c0a-9d19-46628c262487",
   "metadata": {},
   "outputs": [],
   "source": [
    "class MyCheckboxFrame(customtkinter.CTkFrame):\n",
    "    def __init__(self, master, title, values):\n",
    "        super().__init__(master)\n",
    "        self.grid_columnconfigure(0, weight=1)\n",
    "        self.values = values\n",
    "        self.title = title\n",
    "        self.checkboxes = []\n",
    "        \n",
    "        self.size = customtkinter.CTkFont(size=50)\n",
    "        \n",
    "        self.title = customtkinter.CTkLabel(self, text=self.title, fg_color=\"gray30\", corner_radius=6, font=self.size)\n",
    "        self.title.grid(row=0, column=0, padx=10, pady=(10, 0), sticky=\"ew\")\n",
    "\n",
    "        for i, value in enumerate(self.values):\n",
    "            checkbox = customtkinter.CTkCheckBox(self, text=value, font=self.size)\n",
    "            checkbox.grid(row=i+1, column=0, padx=10, pady=(10, 0), sticky=\"w\")\n",
    "            self.checkboxes.append(checkbox)\n",
    "\n",
    "    def get(self):\n",
    "        checked_checkboxes = []\n",
    "        for checkbox in self.checkboxes:\n",
    "            if checkbox.get() == 1:\n",
    "                checked_checkboxes.append(checkbox.cget(\"text\"))\n",
    "        return checked_checkboxes"
   ]
  },
  {
   "cell_type": "code",
   "execution_count": 7,
   "id": "1d02650f-3603-4910-bfda-f4b7c9904c77",
   "metadata": {},
   "outputs": [
    {
     "name": "stdout",
     "output_type": "stream",
     "text": [
      "checkbox_frame_1: []\n",
      "checkbox_frame_2: []\n",
      "checkbox_frame_1: ['value 3']\n",
      "checkbox_frame_2: ['option 1', 'option 2']\n"
     ]
    }
   ],
   "source": [
    "class App(customtkinter.CTk):\n",
    "    def __init__(self):\n",
    "        super().__init__()\n",
    "\n",
    "        self.title(\"my app\")\n",
    "        self.geometry(\"800x400\")\n",
    "        self.size = (customtkinter.CTkFont(size=80))\n",
    "        self.grid_columnconfigure((0,1), weight=1)\n",
    "        self.grid_rowconfigure(0, weight=1)\n",
    "\n",
    "        self.checkbox_frame_1 = MyCheckboxFrame(self, title=\"Values\", values=[\"value 1\", \"value 2\", \"value 3\"])\n",
    "        self.checkbox_frame_1.grid(row=0, column=0, padx=10, pady=(10, 0), sticky=\"nsew\")\n",
    "        self.checkbox_frame_2 = MyCheckboxFrame(self, title=\"Options\", values=[\"option 1\", \"option 2\"])\n",
    "        self.checkbox_frame_2.grid(row=0, column=1, padx=(0, 10), pady=(10, 0), sticky=\"nsew\")\n",
    "        self.checkbox_frame_2.configure(fg_color=\"transparent\")\n",
    "        \n",
    "        self.button = customtkinter.CTkButton(self, text=\"my button\", command=self.button_callback, font=self.size)\n",
    "        self.button.grid(row=4, column=0, padx=10, pady=10, sticky=\"ew\", columnspan=2)\n",
    "\n",
    "    def button_callback(self):\n",
    "        print(\"checkbox_frame_1:\", self.checkbox_frame_1.get())\n",
    "        print(\"checkbox_frame_2:\", self.checkbox_frame_2.get())\n",
    "\n",
    "app = App()\n",
    "app.mainloop()"
   ]
  },
  {
   "cell_type": "code",
   "execution_count": null,
   "id": "a7393da0-dff1-4764-9ba0-1de3f6dece8d",
   "metadata": {},
   "outputs": [],
   "source": []
  }
 ],
 "metadata": {
  "kernelspec": {
   "display_name": "Python [conda env:stock_platform]",
   "language": "python",
   "name": "conda-env-stock_platform-py"
  },
  "language_info": {
   "codemirror_mode": {
    "name": "ipython",
    "version": 3
   },
   "file_extension": ".py",
   "mimetype": "text/x-python",
   "name": "python",
   "nbconvert_exporter": "python",
   "pygments_lexer": "ipython3",
   "version": "3.10.13"
  }
 },
 "nbformat": 4,
 "nbformat_minor": 5
}
